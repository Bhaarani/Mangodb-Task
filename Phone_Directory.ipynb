{
  "nbformat": 4,
  "nbformat_minor": 0,
  "metadata": {
    "colab": {
      "provenance": []
    },
    "kernelspec": {
      "name": "python3",
      "display_name": "Python 3"
    },
    "language_info": {
      "name": "python"
    }
  },
  "cells": [
    {
      "cell_type": "code",
      "execution_count": 35,
      "metadata": {
        "id": "KiVslpa89MjX",
        "colab": {
          "base_uri": "https://localhost:8080/"
        },
        "outputId": "b7a20ab3-142c-4f57-fb84-70ba2c0cc312"
      },
      "outputs": [
        {
          "output_type": "stream",
          "name": "stdout",
          "text": [
            " Welcome!!! \n",
            "press 1 for Create \n",
            "press 2 for Search by Name \n",
            "press 3 for Search by Number \n",
            "press 4 for Update\n",
            "press 5 for Delete\n",
            "Enter the preferred option : 3\n",
            "Enter PH Number: 9994656644\n",
            "{'Name': 'gopal', 'Ph_Num': 9994656644, 'Place': 'velur', 'Email': 'gopal@gmail.com'}\n"
          ]
        }
      ],
      "source": [
        "import pymongo\n",
        "client = pymongo.MongoClient(\"mongodb+srv://<user id>:<password> @cluster0.99c2qfp.mongodb.net/?retryWrites=true&w=majority\")\n",
        "db = client.Project\n",
        "records=db.PhoneData\n",
        "\n",
        "\n",
        "\n",
        "def menu():\n",
        "    print(\" Welcome!!! \\n\"\n",
        "          \"press 1 for Create \\n\"\n",
        "          \"press 2 for Search by Name \\n\"\n",
        "          \"press 3 for Search by Number \\n\"\n",
        "          \"press 4 for Update\\n\"\n",
        "          \"press 5 for Delete\")\n",
        "    \n",
        "    num = int(input(\"Enter the preferred option : \"))\n",
        "\n",
        "    if num == 1:\n",
        "        create()\n",
        "    elif num == 2:\n",
        "        search_name()\n",
        "    elif num == 3:\n",
        "        search_PH()\n",
        "    elif num == 4:\n",
        "        update()\n",
        "    elif num == 5:\n",
        "        delete()\n",
        "    else:\n",
        "        print(\"Enter a correct option : \")\n",
        "  \n",
        "   \n",
        "\n",
        "\n",
        "\n",
        "def create():\n",
        "  Name = input(\"Enter your Name : \")\n",
        "  Ph_num = int(input(\"Enter your Phone number : \"))\n",
        "  Place = input(\"Enter your Place : \")\n",
        "  import re\n",
        "\n",
        "  spl_char = re.compile('[@_!#$%^&*()<>?/\\|}{~:0-9A-Z]')\n",
        "\n",
        "  i = 0\n",
        "  while i < 1:\n",
        "    Email= input(f\"{Name} kindly enter your email id : \")\n",
        "    if Email.find(\"@\") != -1 and Email.find(\".\") != -1 and Email.find(\"@.\") == -1 and spl_char.search(Email[0]) == None:\n",
        "        print(\"Email is good!!!\")\n",
        "        i = i + 1\n",
        "    else:\n",
        "        print(\"invalid email id \\n\"\n",
        "              \"Email id must be in 'abcd@xyz.com' this format\")\n",
        "  Dir = {\n",
        "        \"Name\":Name,\n",
        "        \"Ph_Num\":Ph_num,\n",
        "        \"Place\":Place,\n",
        "        \"Email\":Email\n",
        "    }\n",
        "  records.insert_one(Dir)\n",
        "  print(\"Sucessfully created\")\n",
        "\n",
        "\n",
        "def search_name():    \n",
        "  ret_name = input(\"Enter Name\")\n",
        "  for x in records.find({\"Name\":ret_name},{\"_id\":0}):\n",
        "    print(x)\n",
        "def search_PH():    \n",
        "  ret_num = int(input(\"Enter PH Number: \"))\n",
        "  a = records.find({\"Ph_Num\":{\"$eq\": ret_num }},{\"_id\": 0 })\n",
        "  for x in a:\n",
        "    print(x)\n",
        "\n",
        "def update():\n",
        "  myquery = {\"Name\": input(\"Enter your name\")}\n",
        "  new_num = int(input(\"Enter new number\"))\n",
        "  newvalues = {\"$set\":{\"Ph_Num\": new_num}}\n",
        "  records.update_one(myquery, newvalues)\n",
        "  print(\"Successfully updated\")\n",
        "\n",
        "\n",
        "def delete():\n",
        "  del_name = input(\"Enter your name to delete your contact\")\n",
        "  myquery = {\"Name\":del_name}\n",
        "  records.delete_one(myquery)\n",
        "  print(\"Sucessfully deleted\")\n",
        "\n",
        "menu()"
      ]
    }
  ]
}